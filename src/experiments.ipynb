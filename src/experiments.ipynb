import pandas as pd


data = pd.read_csv('/Users/sfeda/Projects/test_task_de/recources/sample_us_users.csv')
data.head()